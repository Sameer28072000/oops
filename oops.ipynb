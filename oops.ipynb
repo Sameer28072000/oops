{
 "cells": [
  {
   "cell_type": "markdown",
   "id": "5aeb75b3-f38d-4e8e-9f5a-95b8f0c617db",
   "metadata": {},
   "source": [
    "Q1. Explain Class and Object with respect to Object-Oriented Programming. Give a suitable example."
   ]
  },
  {
   "cell_type": "code",
   "execution_count": null,
   "id": "ebf31032-2d46-4ae8-8fe4-c563e3223085",
   "metadata": {},
   "outputs": [],
   "source": [
    "Ans:-In object-oriented programming (OOP), a class is a blueprint or template that defines \n",
    "       the structure and behavior of objects. "
   ]
  },
  {
   "cell_type": "code",
   "execution_count": 3,
   "id": "821c5d35-dfbf-40f7-be72-da06c06ace62",
   "metadata": {},
   "outputs": [],
   "source": [
    "# Defining a class\n",
    "class Car:\n",
    "    # Constructor method to initialize attributes\n",
    "    def __init__(self, brand, model, color):\n",
    "        self.brand = brand\n",
    "        self.model = model\n",
    "        self.color = color\n",
    "\n",
    "    # Method to start the car\n",
    "    def start(self):\n",
    "        print(f\"The {self.color} {self.brand} {self.model} has started.\")\n",
    "\n",
    "    # Method to stop the car\n",
    "    def stop(self):\n",
    "        print(f\"The {self.color} {self.brand} {self.model} has stopped.\")\n"
   ]
  },
  {
   "cell_type": "code",
   "execution_count": null,
   "id": "74f2db98-265c-42e5-8503-0955ceac1261",
   "metadata": {},
   "outputs": [],
   "source": [
    "An object, on the other hand, is an instance of a class. It is created using the blueprint defined by the class."
   ]
  },
  {
   "cell_type": "code",
   "execution_count": 5,
   "id": "f989e6d8-dfc5-4914-87b9-ac8f2198d949",
   "metadata": {},
   "outputs": [
    {
     "name": "stdout",
     "output_type": "stream",
     "text": [
      "Toyota\n",
      "Accord\n",
      "The Red Toyota Camry has started.\n",
      "The Blue Honda Accord has stopped.\n"
     ]
    }
   ],
   "source": [
    "\n",
    "# Creating objects of the Car class\n",
    "car1 = Car(\"Toyota\", \"Camry\", \"Red\")\n",
    "car2 = Car(\"Honda\", \"Accord\", \"Blue\")\n",
    "\n",
    "# Accessing attributes and invoking methods of the objects\n",
    "print(car1.brand)   # Output: Toyota\n",
    "print(car2.model)   # Output: Accord\n",
    "\n",
    "car1.start()        # Output: The Red Toyota Camry has started.\n",
    "car2.stop()         # Output: The Blue Honda Accord has stopped."
   ]
  },
  {
   "cell_type": "markdown",
   "id": "22e574a0-1d29-4e64-990f-2a9b4279de65",
   "metadata": {},
   "source": [
    "Q2. Name the four pillars of OOPs."
   ]
  },
  {
   "cell_type": "code",
   "execution_count": null,
   "id": "ae328d1e-7bd7-40a3-9428-3ac1edbb824e",
   "metadata": {},
   "outputs": [],
   "source": [
    "Ans:-There are four pillars of OOPs\n",
    "      i.Encapsulation\n",
    "       ii.Inheritance\n",
    "        iii.Polymorphism\n",
    "          iv.Abstraction"
   ]
  },
  {
   "cell_type": "markdown",
   "id": "691b27c5-2c82-4e87-8195-165748224366",
   "metadata": {},
   "source": [
    "Q3. Explain why the __init__() function is used. Give a suitable example."
   ]
  },
  {
   "cell_type": "code",
   "execution_count": null,
   "id": "403c5ccb-320a-4f24-8357-62cb42dadc00",
   "metadata": {},
   "outputs": [],
   "source": [
    "Ans:-\n",
    "     The __init__() function in Python is a special method, also known as a constructor, \n",
    "        that is automatically called when an object of a class is created."
   ]
  },
  {
   "cell_type": "code",
   "execution_count": 7,
   "id": "477d0100-0b48-4952-8522-5d14eab8e18c",
   "metadata": {},
   "outputs": [
    {
     "name": "stdout",
     "output_type": "stream",
     "text": [
      "Name: John\n",
      "Age: 16\n",
      "Grade: 10\n"
     ]
    }
   ],
   "source": [
    "class Student:\n",
    "    def __init__(self, name, age, grade):\n",
    "        self.name = name\n",
    "        self.age = age\n",
    "        self.grade = grade\n",
    "\n",
    "    def display_info(self):\n",
    "        print(f\"Name: {self.name}\")\n",
    "        print(f\"Age: {self.age}\")\n",
    "        print(f\"Grade: {self.grade}\")\n",
    "        \n",
    "# Creating an object of the Student class\n",
    "student1 = Student(\"John\", 16, 10)\n",
    "\n",
    "# Accessing and displaying the attributes of the student object\n",
    "student1.display_info()"
   ]
  },
  {
   "cell_type": "markdown",
   "id": "bc772b24-4b52-403a-af50-13fd491f651f",
   "metadata": {},
   "source": [
    "Q4. Why self is used in OOPs?"
   ]
  },
  {
   "cell_type": "code",
   "execution_count": null,
   "id": "4c30c0cd-cb01-4507-bf1d-d78226970571",
   "metadata": {},
   "outputs": [],
   "source": [
    "Ans:-In object-oriented programming (OOP), the self keyword \n",
    "      is used as a convention to refer to the current instance of a class. \n",
    "    \n",
    "    Few reasons why self is used in OOP:\n",
    "        i.Access instance variable\n",
    "          ii.Calling instance function\n",
    "            iii.Enabling OOPs concepts"
   ]
  },
  {
   "cell_type": "markdown",
   "id": "77ed6374-8cc0-493b-9a1b-d98ea30dcf81",
   "metadata": {},
   "source": [
    "Q5. What is inheritance? Give an example for each type of inheritance."
   ]
  },
  {
   "cell_type": "code",
   "execution_count": null,
   "id": "70a73ee7-9ff7-47ba-b916-f497e7196918",
   "metadata": {},
   "outputs": [],
   "source": [
    "Ans:-Inheritance is a fundamental concept in object-oriented programming (OOP) that allows a \n",
    "       class to inherit properties and behaviors from another class."
   ]
  },
  {
   "cell_type": "code",
   "execution_count": null,
   "id": "9c6eb755-867d-4deb-bed6-c41371ede259",
   "metadata": {},
   "outputs": [],
   "source": [
    "     Single Inheritance:\n",
    "        Single inheritance occurs when a subclass inherits from a single superclass."
   ]
  },
  {
   "cell_type": "code",
   "execution_count": 8,
   "id": "f1da5c78-c044-4af0-ad25-b9e0c0a2e557",
   "metadata": {},
   "outputs": [
    {
     "name": "stdout",
     "output_type": "stream",
     "text": [
      "Animal makes a sound.\n",
      "Dog barks.\n"
     ]
    }
   ],
   "source": [
    "class Animal:\n",
    "    def sound(self):\n",
    "        print(\"Animal makes a sound.\")\n",
    "\n",
    "class Dog(Animal):\n",
    "    def bark(self):\n",
    "        print(\"Dog barks.\")\n",
    "\n",
    "dog = Dog()\n",
    "dog.sound()  \n",
    "dog.bark()   "
   ]
  },
  {
   "cell_type": "code",
   "execution_count": null,
   "id": "8aede555-e038-4865-bfe3-20175cd607eb",
   "metadata": {},
   "outputs": [],
   "source": [
    "      Multiple Inheritance:-\n",
    "        Multiple inheritance occurs when a subclass inherits from multiple superclasses."
   ]
  },
  {
   "cell_type": "code",
   "execution_count": 10,
   "id": "4bbe34f2-5d92-4b04-a1fe-b0c3b28f017d",
   "metadata": {},
   "outputs": [
    {
     "name": "stdout",
     "output_type": "stream",
     "text": [
      "Animal makes a sound.\n",
      "Mammal walks.\n",
      "Dog barks.\n"
     ]
    }
   ],
   "source": [
    "class Animal:\n",
    "    def sound(self):\n",
    "        print(\"Animal makes a sound.\")\n",
    "\n",
    "class Mammal:\n",
    "    def walk(self):\n",
    "        print(\"Mammal walks.\")\n",
    "\n",
    "class Dog(Animal, Mammal):\n",
    "    def bark(self):\n",
    "        print(\"Dog barks.\")\n",
    "\n",
    "dog = Dog()\n",
    "dog.sound() \n",
    "dog.walk()  \n",
    "dog.bark()"
   ]
  },
  {
   "cell_type": "code",
   "execution_count": null,
   "id": "256ef9b5-e62d-492f-9f1d-3dfb4e12b615",
   "metadata": {},
   "outputs": [],
   "source": [
    "    Multilevel Inheritance:-\n",
    "        Multilevel inheritance occurs when a subclass inherits from a superclass,"
   ]
  },
  {
   "cell_type": "code",
   "execution_count": 9,
   "id": "16fd640c-90e7-490e-8b85-7f62e2be4fc5",
   "metadata": {},
   "outputs": [
    {
     "name": "stdout",
     "output_type": "stream",
     "text": [
      "Animal makes a sound.\n",
      "Dog barks.\n",
      "Bulldog guards.\n"
     ]
    }
   ],
   "source": [
    "class Animal:\n",
    "    def sound(self):\n",
    "        print(\"Animal makes a sound.\")\n",
    "\n",
    "class Dog(Animal):\n",
    "    def bark(self):\n",
    "        print(\"Dog barks.\")\n",
    "\n",
    "class Bulldog(Dog):\n",
    "    def guard(self):\n",
    "        print(\"Bulldog guards.\")\n",
    "\n",
    "bulldog = Bulldog()\n",
    "bulldog.sound() \n",
    "bulldog.bark()   \n",
    "bulldog.guard() "
   ]
  },
  {
   "cell_type": "code",
   "execution_count": null,
   "id": "1990779f-31aa-486c-8bcf-c7ea36733e83",
   "metadata": {},
   "outputs": [],
   "source": []
  }
 ],
 "metadata": {
  "kernelspec": {
   "display_name": "Python 3 (ipykernel)",
   "language": "python",
   "name": "python3"
  },
  "language_info": {
   "codemirror_mode": {
    "name": "ipython",
    "version": 3
   },
   "file_extension": ".py",
   "mimetype": "text/x-python",
   "name": "python",
   "nbconvert_exporter": "python",
   "pygments_lexer": "ipython3",
   "version": "3.10.8"
  }
 },
 "nbformat": 4,
 "nbformat_minor": 5
}
